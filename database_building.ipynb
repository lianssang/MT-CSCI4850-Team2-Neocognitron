{
 "cells": [
  {
   "cell_type": "code",
   "execution_count": 12,
   "metadata": {},
   "outputs": [],
   "source": [
    "\n",
    "import matplotlib.pyplot as plt\n",
    "import sys\n",
    "import csv\n",
    "import math\n",
    "#sys.path.append('/usr/share/pyshared')\n",
    "#import hashlib\n",
    "import subprocess\n",
    "from sys import stdout\n",
    "import telnetlib\n",
    "import getpass\n",
    "#import pdb\n",
    "#import serial\n",
    "import matplotlib.pyplot as plt\n",
    "import os\n",
    "import pandas as pd\n",
    "import numpy as np\n"
   ]
  },
  {
   "cell_type": "code",
   "execution_count": null,
   "metadata": {},
   "outputs": [],
   "source": []
  },
  {
   "cell_type": "code",
   "execution_count": 2,
   "metadata": {},
   "outputs": [
    {
     "name": "stdout",
     "output_type": "stream",
     "text": [
      "Files in '/nfshome/mb9g/Wifiinfo/recent_wifiview': ['db45.csv', 'db53.csv', 'db14.csv', 'db48.csv', 'WifiInfoView.exe', 'db39.csv', 'db_wifiinfo.bat', 'h1.csv', 'db94.csv', 'db11.csv', 'db22.csv', 'db41.csv', 'db24.csv', 'db61.csv', 'db97.csv', 'db28.csv', 'db60.csv', 'db65.csv', 'db89.csv', 'db68.csv', 'db5.csv', 'db33.csv', 'db1.csv', 'Untitled.ipynb', 'db96.csv', 'db77.csv', 'db50.csv', 'db91.csv', 'db25.csv', 'db56.csv', 'db27.csv', 'db12.csv', 'db21.csv', 'db3.csv', 'python.exe', 'db71.csv', 'db54.csv', 'db19.csv', 'db83.csv', 'db72.csv', 'db67.csv', 'db69.csv', 'WifiInfoView.chm', 'db74.csv', 'db100.csv', 'log', 'db40.csv', 'db37.csv', 'dbcheck.csv', 'db30.csv', 'db99.csv', 'publiclane_window_bench', 'WifiInfoView.cfg', 'db86.csv', '.ipynb_checkpoints', 'cafloc_nearestneighbor_new.py', 'db42.csv', 'db64.csv', 'db46.csv', 'db90.csv', 'HowTo.txt', 'db15.csv', 'db63.csv', 'db16.csv', 'db26.csv', 'db59.csv', 'db58.csv', 'db95.csv', 'db79.csv', 'db92.csv', 'db98.csv', 'untitled', 'nearest_neighbor.py', 'db.csv', 'db2.csv', 'db20.csv', 'db23.csv', 'db10.csv', 'db82.csv', 'db52.csv', 'db35.csv', 'db66.csv', 'db44.csv', 'db17.csv', 'scan.py', 'sample_wifiinfo.bat', 'db6.csv', 'db85.csv', 'db13.csv', 'db88.csv', 'db18.csv', 'db51.csv', 'db4.csv', 'db36.csv', 'db29.csv', 'db34.csv', 'db57.csv', 'Untitled Folder', 'db49.csv', 'readme.txt', 'db47.csv', 'db9.csv', 'db_building.py', 'ops.txt', 'db38.csv', 'db81.csv', 'db7.csv', 'db76.csv', 'db80.csv', 'db70.csv', 'db43.csv', 'db55.csv', 'ops.py', 'db31.csv', 'db87.csv', 'db93.csv', 'db32.csv', 'db84.csv', 'histo_ref.py', 'database_building-Copy1.ipynb', 'db73.csv', 'sample_building.py', 'db78.csv', 'db75.csv', 'db8.csv', 'test_location.bat', 'db62.csv']\n"
     ]
    }
   ],
   "source": [
    "cwd = os.getcwd()  # Get the current working directory (cwd)\n",
    "files = os.listdir(cwd)  # Get all the files in that directory\n",
    "print(\"Files in '%s': %s\" % (cwd, files))"
   ]
  },
  {
   "cell_type": "code",
   "execution_count": 17,
   "metadata": {},
   "outputs": [
    {
     "ename": "FileNotFoundError",
     "evalue": "File b'db10.csv' does not exist",
     "output_type": "error",
     "traceback": [
      "\u001b[0;31m---------------------------------------------------------------------------\u001b[0m",
      "\u001b[0;31mFileNotFoundError\u001b[0m                         Traceback (most recent call last)",
      "\u001b[0;32m<ipython-input-17-4017029b5906>\u001b[0m in \u001b[0;36m<module>\u001b[0;34m\u001b[0m\n\u001b[1;32m     12\u001b[0m     \u001b[0mdb_dictionary\u001b[0m\u001b[0;34m[\u001b[0m\u001b[0;34m'db_ssid'\u001b[0m\u001b[0;34m]\u001b[0m\u001b[0;34m=\u001b[0m\u001b[0;34m[\u001b[0m\u001b[0;34m]\u001b[0m\u001b[0;34m\u001b[0m\u001b[0;34m\u001b[0m\u001b[0m\n\u001b[1;32m     13\u001b[0m     \u001b[0;32mfor\u001b[0m \u001b[0mcounter\u001b[0m \u001b[0;32min\u001b[0m \u001b[0mrange\u001b[0m\u001b[0;34m(\u001b[0m\u001b[0;36m1\u001b[0m\u001b[0;34m,\u001b[0m\u001b[0mnumOfScans\u001b[0m\u001b[0;34m+\u001b[0m\u001b[0;36m1\u001b[0m\u001b[0;34m)\u001b[0m\u001b[0;34m:\u001b[0m\u001b[0;34m\u001b[0m\u001b[0;34m\u001b[0m\u001b[0m\n\u001b[0;32m---> 14\u001b[0;31m         \u001b[0mdf\u001b[0m \u001b[0;34m=\u001b[0m \u001b[0mpd\u001b[0m\u001b[0;34m.\u001b[0m\u001b[0mread_csv\u001b[0m\u001b[0;34m(\u001b[0m\u001b[0mfileName\u001b[0m\u001b[0;34m+\u001b[0m\u001b[0mstr\u001b[0m\u001b[0;34m(\u001b[0m\u001b[0mcounter\u001b[0m\u001b[0;34m)\u001b[0m\u001b[0;34m+\u001b[0m\u001b[0;34m'.csv'\u001b[0m\u001b[0;34m)\u001b[0m\u001b[0;34m\u001b[0m\u001b[0;34m\u001b[0m\u001b[0m\n\u001b[0m\u001b[1;32m     15\u001b[0m         \u001b[0mmacAddress\u001b[0m\u001b[0;34m=\u001b[0m\u001b[0mdf\u001b[0m\u001b[0;34m[\u001b[0m\u001b[0;34m'MAC Address'\u001b[0m\u001b[0;34m]\u001b[0m\u001b[0;34m\u001b[0m\u001b[0;34m\u001b[0m\u001b[0m\n\u001b[1;32m     16\u001b[0m         \u001b[0mssid\u001b[0m\u001b[0;34m=\u001b[0m\u001b[0mdf\u001b[0m\u001b[0;34m[\u001b[0m\u001b[0;34m'SSID'\u001b[0m\u001b[0;34m]\u001b[0m\u001b[0;34m\u001b[0m\u001b[0;34m\u001b[0m\u001b[0m\n",
      "\u001b[0;32m/nfshome/apps/python-3.6.7/lib/python3.6/site-packages/pandas/io/parsers.py\u001b[0m in \u001b[0;36mparser_f\u001b[0;34m(filepath_or_buffer, sep, delimiter, header, names, index_col, usecols, squeeze, prefix, mangle_dupe_cols, dtype, engine, converters, true_values, false_values, skipinitialspace, skiprows, nrows, na_values, keep_default_na, na_filter, verbose, skip_blank_lines, parse_dates, infer_datetime_format, keep_date_col, date_parser, dayfirst, iterator, chunksize, compression, thousands, decimal, lineterminator, quotechar, quoting, escapechar, comment, encoding, dialect, tupleize_cols, error_bad_lines, warn_bad_lines, skipfooter, doublequote, delim_whitespace, low_memory, memory_map, float_precision)\u001b[0m\n\u001b[1;32m    676\u001b[0m                     skip_blank_lines=skip_blank_lines)\n\u001b[1;32m    677\u001b[0m \u001b[0;34m\u001b[0m\u001b[0m\n\u001b[0;32m--> 678\u001b[0;31m         \u001b[0;32mreturn\u001b[0m \u001b[0m_read\u001b[0m\u001b[0;34m(\u001b[0m\u001b[0mfilepath_or_buffer\u001b[0m\u001b[0;34m,\u001b[0m \u001b[0mkwds\u001b[0m\u001b[0;34m)\u001b[0m\u001b[0;34m\u001b[0m\u001b[0;34m\u001b[0m\u001b[0m\n\u001b[0m\u001b[1;32m    679\u001b[0m \u001b[0;34m\u001b[0m\u001b[0m\n\u001b[1;32m    680\u001b[0m     \u001b[0mparser_f\u001b[0m\u001b[0;34m.\u001b[0m\u001b[0m__name__\u001b[0m \u001b[0;34m=\u001b[0m \u001b[0mname\u001b[0m\u001b[0;34m\u001b[0m\u001b[0;34m\u001b[0m\u001b[0m\n",
      "\u001b[0;32m/nfshome/apps/python-3.6.7/lib/python3.6/site-packages/pandas/io/parsers.py\u001b[0m in \u001b[0;36m_read\u001b[0;34m(filepath_or_buffer, kwds)\u001b[0m\n\u001b[1;32m    438\u001b[0m \u001b[0;34m\u001b[0m\u001b[0m\n\u001b[1;32m    439\u001b[0m     \u001b[0;31m# Create the parser.\u001b[0m\u001b[0;34m\u001b[0m\u001b[0;34m\u001b[0m\u001b[0;34m\u001b[0m\u001b[0m\n\u001b[0;32m--> 440\u001b[0;31m     \u001b[0mparser\u001b[0m \u001b[0;34m=\u001b[0m \u001b[0mTextFileReader\u001b[0m\u001b[0;34m(\u001b[0m\u001b[0mfilepath_or_buffer\u001b[0m\u001b[0;34m,\u001b[0m \u001b[0;34m**\u001b[0m\u001b[0mkwds\u001b[0m\u001b[0;34m)\u001b[0m\u001b[0;34m\u001b[0m\u001b[0;34m\u001b[0m\u001b[0m\n\u001b[0m\u001b[1;32m    441\u001b[0m \u001b[0;34m\u001b[0m\u001b[0m\n\u001b[1;32m    442\u001b[0m     \u001b[0;32mif\u001b[0m \u001b[0mchunksize\u001b[0m \u001b[0;32mor\u001b[0m \u001b[0miterator\u001b[0m\u001b[0;34m:\u001b[0m\u001b[0;34m\u001b[0m\u001b[0;34m\u001b[0m\u001b[0m\n",
      "\u001b[0;32m/nfshome/apps/python-3.6.7/lib/python3.6/site-packages/pandas/io/parsers.py\u001b[0m in \u001b[0;36m__init__\u001b[0;34m(self, f, engine, **kwds)\u001b[0m\n\u001b[1;32m    785\u001b[0m             \u001b[0mself\u001b[0m\u001b[0;34m.\u001b[0m\u001b[0moptions\u001b[0m\u001b[0;34m[\u001b[0m\u001b[0;34m'has_index_names'\u001b[0m\u001b[0;34m]\u001b[0m \u001b[0;34m=\u001b[0m \u001b[0mkwds\u001b[0m\u001b[0;34m[\u001b[0m\u001b[0;34m'has_index_names'\u001b[0m\u001b[0;34m]\u001b[0m\u001b[0;34m\u001b[0m\u001b[0;34m\u001b[0m\u001b[0m\n\u001b[1;32m    786\u001b[0m \u001b[0;34m\u001b[0m\u001b[0m\n\u001b[0;32m--> 787\u001b[0;31m         \u001b[0mself\u001b[0m\u001b[0;34m.\u001b[0m\u001b[0m_make_engine\u001b[0m\u001b[0;34m(\u001b[0m\u001b[0mself\u001b[0m\u001b[0;34m.\u001b[0m\u001b[0mengine\u001b[0m\u001b[0;34m)\u001b[0m\u001b[0;34m\u001b[0m\u001b[0;34m\u001b[0m\u001b[0m\n\u001b[0m\u001b[1;32m    788\u001b[0m \u001b[0;34m\u001b[0m\u001b[0m\n\u001b[1;32m    789\u001b[0m     \u001b[0;32mdef\u001b[0m \u001b[0mclose\u001b[0m\u001b[0;34m(\u001b[0m\u001b[0mself\u001b[0m\u001b[0;34m)\u001b[0m\u001b[0;34m:\u001b[0m\u001b[0;34m\u001b[0m\u001b[0;34m\u001b[0m\u001b[0m\n",
      "\u001b[0;32m/nfshome/apps/python-3.6.7/lib/python3.6/site-packages/pandas/io/parsers.py\u001b[0m in \u001b[0;36m_make_engine\u001b[0;34m(self, engine)\u001b[0m\n\u001b[1;32m   1012\u001b[0m     \u001b[0;32mdef\u001b[0m \u001b[0m_make_engine\u001b[0m\u001b[0;34m(\u001b[0m\u001b[0mself\u001b[0m\u001b[0;34m,\u001b[0m \u001b[0mengine\u001b[0m\u001b[0;34m=\u001b[0m\u001b[0;34m'c'\u001b[0m\u001b[0;34m)\u001b[0m\u001b[0;34m:\u001b[0m\u001b[0;34m\u001b[0m\u001b[0;34m\u001b[0m\u001b[0m\n\u001b[1;32m   1013\u001b[0m         \u001b[0;32mif\u001b[0m \u001b[0mengine\u001b[0m \u001b[0;34m==\u001b[0m \u001b[0;34m'c'\u001b[0m\u001b[0;34m:\u001b[0m\u001b[0;34m\u001b[0m\u001b[0;34m\u001b[0m\u001b[0m\n\u001b[0;32m-> 1014\u001b[0;31m             \u001b[0mself\u001b[0m\u001b[0;34m.\u001b[0m\u001b[0m_engine\u001b[0m \u001b[0;34m=\u001b[0m \u001b[0mCParserWrapper\u001b[0m\u001b[0;34m(\u001b[0m\u001b[0mself\u001b[0m\u001b[0;34m.\u001b[0m\u001b[0mf\u001b[0m\u001b[0;34m,\u001b[0m \u001b[0;34m**\u001b[0m\u001b[0mself\u001b[0m\u001b[0;34m.\u001b[0m\u001b[0moptions\u001b[0m\u001b[0;34m)\u001b[0m\u001b[0;34m\u001b[0m\u001b[0;34m\u001b[0m\u001b[0m\n\u001b[0m\u001b[1;32m   1015\u001b[0m         \u001b[0;32melse\u001b[0m\u001b[0;34m:\u001b[0m\u001b[0;34m\u001b[0m\u001b[0;34m\u001b[0m\u001b[0m\n\u001b[1;32m   1016\u001b[0m             \u001b[0;32mif\u001b[0m \u001b[0mengine\u001b[0m \u001b[0;34m==\u001b[0m \u001b[0;34m'python'\u001b[0m\u001b[0;34m:\u001b[0m\u001b[0;34m\u001b[0m\u001b[0;34m\u001b[0m\u001b[0m\n",
      "\u001b[0;32m/nfshome/apps/python-3.6.7/lib/python3.6/site-packages/pandas/io/parsers.py\u001b[0m in \u001b[0;36m__init__\u001b[0;34m(self, src, **kwds)\u001b[0m\n\u001b[1;32m   1706\u001b[0m         \u001b[0mkwds\u001b[0m\u001b[0;34m[\u001b[0m\u001b[0;34m'usecols'\u001b[0m\u001b[0;34m]\u001b[0m \u001b[0;34m=\u001b[0m \u001b[0mself\u001b[0m\u001b[0;34m.\u001b[0m\u001b[0musecols\u001b[0m\u001b[0;34m\u001b[0m\u001b[0;34m\u001b[0m\u001b[0m\n\u001b[1;32m   1707\u001b[0m \u001b[0;34m\u001b[0m\u001b[0m\n\u001b[0;32m-> 1708\u001b[0;31m         \u001b[0mself\u001b[0m\u001b[0;34m.\u001b[0m\u001b[0m_reader\u001b[0m \u001b[0;34m=\u001b[0m \u001b[0mparsers\u001b[0m\u001b[0;34m.\u001b[0m\u001b[0mTextReader\u001b[0m\u001b[0;34m(\u001b[0m\u001b[0msrc\u001b[0m\u001b[0;34m,\u001b[0m \u001b[0;34m**\u001b[0m\u001b[0mkwds\u001b[0m\u001b[0;34m)\u001b[0m\u001b[0;34m\u001b[0m\u001b[0;34m\u001b[0m\u001b[0m\n\u001b[0m\u001b[1;32m   1709\u001b[0m \u001b[0;34m\u001b[0m\u001b[0m\n\u001b[1;32m   1710\u001b[0m         \u001b[0mpassed_names\u001b[0m \u001b[0;34m=\u001b[0m \u001b[0mself\u001b[0m\u001b[0;34m.\u001b[0m\u001b[0mnames\u001b[0m \u001b[0;32mis\u001b[0m \u001b[0;32mNone\u001b[0m\u001b[0;34m\u001b[0m\u001b[0;34m\u001b[0m\u001b[0m\n",
      "\u001b[0;32mpandas/_libs/parsers.pyx\u001b[0m in \u001b[0;36mpandas._libs.parsers.TextReader.__cinit__\u001b[0;34m()\u001b[0m\n",
      "\u001b[0;32mpandas/_libs/parsers.pyx\u001b[0m in \u001b[0;36mpandas._libs.parsers.TextReader._setup_parser_source\u001b[0;34m()\u001b[0m\n",
      "\u001b[0;31mFileNotFoundError\u001b[0m: File b'db10.csv' does not exist"
     ]
    }
   ],
   "source": [
    "if __name__=='__main__':\n",
    "    numOfScans=50\n",
    "    fileName='db'\n",
    "    subprocess.run('/nfshome/mb9g/db_wifiinfo.bat', shell = True)\n",
    "    #os.system('/nfshome/mb9g/db_wifiinfo.bat')\n",
    "    #we should have all the files now. Next, we build the db file\n",
    "    db_dictionary={}\n",
    "    db_dictionary['rss_array']=[]\n",
    "    db_dictionary['db_macAddress']=[]\n",
    "    db_dictionary['db_rssiValue']=[]\n",
    "    db_dictionary['db_rssiCount']=[]\n",
    "    db_dictionary['db_ssid']=[]\n",
    "    for counter in range(1,numOfScans+1):\n",
    "        df = pd.read_csv(fileName+str(counter)+'.csv')\n",
    "        macAddress=df['MAC Address']\n",
    "        ssid=df['SSID']\n",
    "        macAddress=macAddress.astype('str')\n",
    "        ssid=ssid.astype('str')\n",
    "        for num,line in enumerate(macAddress):\n",
    "            if line not in db_dictionary['db_macAddress']:\n",
    "                db_dictionary['db_macAddress'].append(line)\n",
    "                db_dictionary['db_ssid'].append(ssid[num])\n",
    "                db_dictionary['db_rssiValue'].append(0)\n",
    "                db_dictionary['db_rssiCount'].append(0)\n",
    "\n",
    "    print (db_dictionary['db_macAddress'])\n",
    "\n",
    "\n",
    "    #we should have all the Mac address populated in db dictionary.\n",
    "    count=[]\n",
    "    for counter in range(1,numOfScans+1):\n",
    "        df = pd.read_csv(fileName+str(counter)+'.csv')\n",
    "        macAddress=df['MAC Address']\n",
    "        macAddress=macAddress.astype('str')\n",
    "        rssiValue=df['RSSI']\n",
    "        #rssiValue=rssiValue.astype('str')\n",
    "\n",
    "\n",
    "\n",
    "\n",
    "\n",
    "\n",
    "        #rssiValue=rssiValue.astype('str')\n",
    "        for num1, line1 in enumerate(macAddress):\n",
    "            for num2,line2 in enumerate(db_dictionary['db_macAddress']):\n",
    "                if line1 in line2:\n",
    "                    rssiValue = list(map(float,rssiValue))\n",
    "                    db_dictionary.setdefault(line2, []).append(rssiValue[num1])\n",
    "\n",
    "                    db_dictionary['db_rssiCount'][num2]=db_dictionary['db_rssiCount'][num2]+1\n",
    "\n",
    "\n",
    "                    break;\n",
    "\n",
    "    print (db_dictionary['db_rssiCount'])\n",
    "    print (db_dictionary['db_rssiValue'])\n",
    "    #for mac in db_dictionary['db_macAddress']:\n",
    "\n",
    "\n",
    "\n",
    "\n",
    "#preprocessing the data converting it into the relative RSS\n",
    "\n",
    "    yavg=[]\n",
    "    mac_address=[]\n",
    "    for countmac, mac in enumerate(db_dictionary['db_macAddress']):\n",
    "\n",
    "        RSSI=db_dictionary[mac]\n",
    "        mac_address.append(mac)\n",
    "\n",
    "        yavg.append(np.mean(RSSI))\n",
    "\n",
    "        print(np.mean(RSSI))\n",
    "\n",
    "\n",
    "\n",
    "\n",
    "    p_min = min(yavg)\n",
    "    p_max = max(yavg)\n",
    "    #min and max of average of RSS\n",
    "    print(p_min)\n",
    "    print(p_max)\n",
    "\n",
    "    rssi = []\n",
    "    length=[]\n",
    "    not_avg=[]\n",
    "\n",
    "    for countmac,mac in enumerate(db_dictionary['db_macAddress']):\n",
    "\n",
    "        for count,RSS in enumerate(db_dictionary[mac]):\n",
    "            p_min=min(p_min,db_dictionary[mac][count])\n",
    "            p_max=max(p_max,db_dictionary[mac][count])\n",
    "            rssi.append((db_dictionary[mac][count]-p_min) / (p_max-p_min))\n",
    "        length.append(count+1)\n",
    "\n",
    "    v=[]\n",
    "    i=0\n",
    "    for num,value in enumerate(length):\n",
    "        x =rssi[i:value+i]\n",
    "        v.append(x)\n",
    "        i += value\n",
    "   #convert array into the same size array\n",
    "    b=np.zeros([len(v),len(max(v,key=lambda q:len(q)))])\n",
    "    for m,n in enumerate(v):\n",
    "        b[m][0:len(n)]=n\n",
    "    arr=np.array(b)\n",
    "    np.savetxt('data.csv', arr,fmt='%f',delimiter=',')\n",
    "    \n",
    "    \n",
    "\n",
    "\n",
    "        "
   ]
  },
  {
   "cell_type": "code",
   "execution_count": 8,
   "metadata": {},
   "outputs": [
    {
     "data": {
      "text/plain": [
       "<map at 0x7f37c2075240>"
      ]
     },
     "execution_count": 8,
     "metadata": {},
     "output_type": "execute_result"
    }
   ],
   "source": [
    "rssiValue"
   ]
  },
  {
   "cell_type": "code",
   "execution_count": 13,
   "metadata": {},
   "outputs": [
    {
     "data": {
      "text/plain": [
       "32256"
      ]
     },
     "execution_count": 13,
     "metadata": {},
     "output_type": "execute_result"
    }
   ],
   "source": [
    "os.system('/nfshome/mb9g/db_wifiinfo.bat')"
   ]
  },
  {
   "cell_type": "code",
   "execution_count": null,
   "metadata": {},
   "outputs": [],
   "source": []
  }
 ],
 "metadata": {
  "kernelspec": {
   "display_name": "Python 3",
   "language": "python",
   "name": "python3"
  },
  "language_info": {
   "codemirror_mode": {
    "name": "ipython",
    "version": 3
   },
   "file_extension": ".py",
   "mimetype": "text/x-python",
   "name": "python",
   "nbconvert_exporter": "python",
   "pygments_lexer": "ipython3",
   "version": "3.6.7"
  }
 },
 "nbformat": 4,
 "nbformat_minor": 2
}
