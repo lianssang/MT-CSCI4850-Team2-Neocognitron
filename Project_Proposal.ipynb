{
 "cells": [
  {
   "cell_type": "markdown",
   "metadata": {},
   "source": [
    "# Project proposal"
   ]
  },
  {
   "cell_type": "markdown",
   "metadata": {},
   "source": [
    "####    As team \"Neocognitron\" we are going to create a program allows the user to determine their indoor location using the CAFLOC wireless localization method in a neural net.  We are currently thinking of approaching the problem in one of two ways.  We will use a multilayer network or transform our RSS data into images and use a CNN.  The CAFLOC method for localization requires a reference device and a target device.  The reference device is used to fingerprint locations in a room and the target device uses the fingerprint and relative RSS signals from different wireless access points to determine if it is at one of the fingerprinted locations.  We will use a laptop as the reference device to fingerprint 4 locations in the classroom, this data will consist of RSS values, AP ids, signal strengths and possibly more and will be used to train our NN to identify the locations.  We will than use a Dongle wireless device as a target device, do a real-time transformation on data being taken by the device and run it through our model to determine where the target device is in the room.  At this point our location classes will be given to the target device in a \"closest to\" manner.  We will need to transform our data to run it through our neural net.  The current plan for these transformations is to normalize the RSS values from real dBm values down to values ranging from 0 to 1.  Each location will produce up to 120 scans for wireless access points (AP). These scans will produce a set of RSS values for each AP.  We will discriminate some of the access points out of the data set because devices that are not statically emplaced will not help us calculate a location via CAFLOC.  A potentially difficult problem will be determining how to pass APs to the net.  Currently, we will approach the problem by hard coding integer values to each AP then get a fixed max number of APs and then normalize these values to be entered as features in our net.  We may consider increasing the Number of locations in the room in order to provide the net with more training data and to ensure that the net does not have to generalize too much.  With only 4 locations we would expect a wider range of generalization between the locations and this may be more difficult for the net to handle, we will not know until we test it.  We would like to be able to transform our wireless signals into 2D images and feed them into a Convolutional Neural Net if we have the time and expertise, this data transformation is the greatest foreseeable obstacle we would face in that case."
   ]
  },
  {
   "cell_type": "code",
   "execution_count": null,
   "metadata": {},
   "outputs": [],
   "source": []
  }
 ],
 "metadata": {
  "kernelspec": {
   "display_name": "Python 3",
   "language": "python",
   "name": "python3"
  },
  "language_info": {
   "codemirror_mode": {
    "name": "ipython",
    "version": 3
   },
   "file_extension": ".py",
   "mimetype": "text/x-python",
   "name": "python",
   "nbconvert_exporter": "python",
   "pygments_lexer": "ipython3",
   "version": "3.6.7"
  }
 },
 "nbformat": 4,
 "nbformat_minor": 2
}
