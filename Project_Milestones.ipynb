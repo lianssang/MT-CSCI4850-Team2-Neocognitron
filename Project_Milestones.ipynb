{
 "cells": [
  {
   "cell_type": "markdown",
   "metadata": {},
   "source": [
    "# Project Milestones"
   ]
  },
  {
   "cell_type": "markdown",
   "metadata": {},
   "source": [
    " Deliverable   | Percent Complete  | Estimated Completion Date  |  Percent Complete by Next Milestone  \n",
    " ------------- |------------------:| --------------------------:|-----------------------------------:\n",
    " Code          |        25%        |                     Apr. 11|                                50% \n",
    " Paper         |        0%         |                Apr. 15     |                                10%\n",
    " Demo          |        5%         |                 Apr. 20    |                                15%\n",
    " Presentation  |        0%         |                  Apr.26    |                                 0%"
   ]
  },
  {
   "cell_type": "markdown",
   "metadata": {},
   "source": [
    "### 1) No previous milestone.  Milestones now set.\n",
    "\n",
    "### 2) No previous milestone.  No incomplete goals.\n",
    "\n",
    "### 3) We need to finish our initial data manipulation, Manoj is working on this.  We must also rewrite some windows batch files as bash commands, Greg is working on this.  Then we will begin constructing a MLP to train with our dataset, Steven and Lian are working on this."
   ]
  },
  {
   "cell_type": "markdown",
   "metadata": {},
   "source": [
    "## Milestone 2"
   ]
  },
  {
   "cell_type": "markdown",
   "metadata": {},
   "source": [
    " Deliverable   | Percent Complete  | Estimated Completion Date  |  Percent Complete by Next Milestone  \n",
    " ------------- |------------------:| --------------------------:|-----------------------------------:\n",
    " Code          |        40%        |                     Apr. 11|                                75% \n",
    " Paper         |        0%         |                Apr. 15     |                                10%\n",
    " Demo          |        10%         |                 Apr. 20    |                                25%\n",
    " Presentation  |        0%         |                  Apr.26    |                                 0%"
   ]
  },
  {
   "cell_type": "markdown",
   "metadata": {},
   "source": [
    "### 1) Unfortunatley, the data collection methods we are using are cumbersome and we are still working out how to correctly manipulate our training data set.\n",
    "\n",
    "### 2) We have been focused on the data set and have just realized a new approach to train the neural net.  This means we have not made progress on teh paper.  Choosing the correct locations in our training data set will allow us to prepare our demo quickly.\n",
    "\n",
    "### 3) We need to finish our initial data manipulation, Manoj and Greg are figuring out how to complete this.  The MLP , Steven and Lian are working on this."
   ]
  },
  {
   "cell_type": "markdown",
   "metadata": {},
   "source": [
    "## Milestone 3"
   ]
  },
  {
   "cell_type": "markdown",
   "metadata": {},
   "source": [
    " Deliverable   | Percent Complete  | Estimated Completion Date  |  Percent Complete by Next Milestone  \n",
    " ------------- |------------------:| --------------------------:|-----------------------------------:\n",
    " Code          |        40%        |                     Apr. 16|                                100% \n",
    " Paper         |        0%         |                Apr. 15     |                                10%\n",
    " Demo          |        10%         |                 Apr. 20    |                                25%\n",
    " Presentation  |        0%         |                  Apr.26    |                                 0%"
   ]
  },
  {
   "cell_type": "markdown",
   "metadata": {},
   "source": [
    "### 1) We are on track as per the last milestone.  The new finish date for the code is Apr 16\n",
    "\n",
    "### 2) The raw data and preproccessing have been refined.  The introduction of the paper has been written.  Our Neural net is showing good learning ability as of the first pass of data.\n",
    "\n",
    "### 3) We need to take data and preprocess for the live demo, Manoj is making this happen.  We need to ensure our NN is not over fitting and conduct testing, Greg and Steven are working on this.  Lian is double checking all work and ensuring the paper is completed."
   ]
  },
  {
   "cell_type": "markdown",
   "metadata": {},
   "source": [
    "## Milestone 4"
   ]
  },
  {
   "cell_type": "markdown",
   "metadata": {},
   "source": [
    " Deliverable   | Percent Complete  | Estimated Completion Date  |  Percent Complete by Next Milestone  \n",
    " ------------- |------------------:| --------------------------:|-----------------------------------:\n",
    " Code          |        100%        |                     Apr. 23|                                100% \n",
    " Paper         |        100%         |                Apr. 23     |                                100%\n",
    " Demo          |        100%         |                 Apr. 23    |                                100%\n",
    " Presentation  |        50%         |                  Apr.30    |                                 100%"
   ]
  },
  {
   "cell_type": "markdown",
   "metadata": {},
   "source": [
    "### 1) All code, demo, and paper are completed.  Our group just needs to finess the presentation.\n",
    "\n",
    "### 2) Our net trained well and can predict all testing (demo) locations correctly even though the data was taken at different times.  \n",
    "\n",
    "### 3) Each group member is being assigned a portion of the presentation to cover, this will ensure they have what they need to present.  The group will be conducting practice runs on the 30th via skype."
   ]
  },
  {
   "cell_type": "code",
   "execution_count": null,
   "metadata": {},
   "outputs": [],
   "source": []
  }
 ],
 "metadata": {
  "kernelspec": {
   "display_name": "Python 3",
   "language": "python",
   "name": "python3"
  },
  "language_info": {
   "codemirror_mode": {
    "name": "ipython",
    "version": 3
   },
   "file_extension": ".py",
   "mimetype": "text/x-python",
   "name": "python",
   "nbconvert_exporter": "python",
   "pygments_lexer": "ipython3",
   "version": "3.6.7"
  }
 },
 "nbformat": 4,
 "nbformat_minor": 2
}
