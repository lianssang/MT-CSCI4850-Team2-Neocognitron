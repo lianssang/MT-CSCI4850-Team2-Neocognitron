{
 "cells": [
  {
   "cell_type": "code",
   "execution_count": 8,
   "metadata": {},
   "outputs": [
    {
     "name": "stdout",
     "output_type": "stream",
     "text": [
      "(255, 9)\n"
     ]
    }
   ],
   "source": [
    "import numpy as np\n",
    "import keras\n",
    "import pandas\n",
    "from keras_tqdm import TQDMNotebookCallback\n",
    "from sklearn import preprocessing\n",
    "from sklearn.preprocessing import StandardScaler\n",
    "\n",
    "data = np.array(pandas.read_csv(\"./comp_new_trainingdata.csv\", header=0))\n",
    "## Have to drop all the rows that have nan values because they will not help with net\n",
    "## clean out rows with nan values\n",
    "data = data[~np.isnan(data).any(axis=1)]\n",
    "np.random.shuffle(data)\n",
    "\n",
    "print(data.shape)\n"
   ]
  },
  {
   "cell_type": "code",
   "execution_count": 9,
   "metadata": {},
   "outputs": [
    {
     "name": "stdout",
     "output_type": "stream",
     "text": [
      "(255, 8)\n"
     ]
    },
    {
     "data": {
      "text/plain": [
       "array([[-1.35757558, -1.27522973, -1.52086612, ..., -1.55873791,\n",
       "        -1.89660855,  1.46604656],\n",
       "       [ 0.75380536,  0.86117985,  0.52723835, ..., -0.61404332,\n",
       "         0.88202838,  0.91031442],\n",
       "       [-1.02767231, -1.09963442, -1.49160748, ..., -1.49575827,\n",
       "        -1.82949172,  1.29932692],\n",
       "       ...,\n",
       "       [ 0.46514   , -0.26067906, -1.37457294, ...,  0.73885264,\n",
       "         0.82833491, -1.46080939],\n",
       "       [ 0.46055801,  0.38038318, -1.00884   , ...,  0.90213319,\n",
       "         1.06995551, -1.44228499],\n",
       "       [ 0.83628118, -0.0899614 , -1.55743941, ...,  0.50559472,\n",
       "         0.80148818, -1.40523618]])"
      ]
     },
     "metadata": {},
     "output_type": "display_data"
    },
    {
     "name": "stdout",
     "output_type": "stream",
     "text": [
      "(255,)\n"
     ]
    },
    {
     "data": {
      "text/plain": [
       "array([0., 1., 0., 2., 1., 1., 1., 0., 2., 1., 0., 1., 0., 1., 0., 0., 0.,\n",
       "       0., 1., 0., 1., 0., 2., 2., 0., 1., 1., 1., 0., 0., 2., 1., 0., 1.,\n",
       "       1., 0., 0., 2., 2., 0., 2., 2., 0., 0., 1., 1., 2., 1., 0., 0., 2.,\n",
       "       1., 2., 1., 1., 0., 0., 2., 0., 2., 2., 0., 0., 0., 2., 0., 2., 2.,\n",
       "       0., 2., 0., 2., 0., 2., 1., 0., 0., 2., 1., 1., 0., 1., 2., 1., 2.,\n",
       "       0., 1., 2., 0., 0., 1., 2., 2., 0., 0., 2., 2., 1., 2., 1., 2., 2.,\n",
       "       1., 2., 0., 0., 2., 0., 0., 1., 2., 2., 0., 1., 2., 1., 2., 2., 1.,\n",
       "       0., 1., 1., 0., 2., 1., 0., 2., 0., 2., 2., 0., 1., 0., 0., 2., 2.,\n",
       "       1., 2., 0., 1., 1., 1., 2., 2., 2., 2., 1., 2., 0., 0., 0., 1., 2.,\n",
       "       1., 2., 1., 2., 0., 0., 0., 0., 0., 1., 2., 1., 0., 0., 0., 1., 1.,\n",
       "       2., 0., 2., 0., 2., 2., 2., 0., 2., 1., 0., 0., 1., 2., 2., 0., 0.,\n",
       "       2., 1., 0., 0., 0., 0., 1., 2., 1., 1., 0., 1., 2., 1., 1., 2., 0.,\n",
       "       1., 1., 0., 1., 0., 1., 0., 2., 2., 1., 0., 2., 2., 0., 1., 0., 1.,\n",
       "       2., 2., 2., 2., 1., 0., 2., 2., 1., 0., 0., 2., 1., 2., 0., 2., 0.,\n",
       "       1., 1., 0., 2., 1., 1., 0., 1., 2., 1., 0., 0., 1., 0., 0., 0., 0.])"
      ]
     },
     "metadata": {},
     "output_type": "display_data"
    }
   ],
   "source": [
    "from sympy import *\n",
    "init_printing(use_latex=True)\n",
    "\n",
    "import matplotlib.pyplot as plt\n",
    "%matplotlib inline\n",
    "\n",
    "## we will use scaled data\n",
    "scaler = StandardScaler()\n",
    "## when testing predicitions\n",
    "## X = scaler.fit_transform( X )\n",
    "## test = scaler.transform( test )\n",
    "\n",
    "X = data[:,0:8]\n",
    "X = scaler.fit_transform(X)\n",
    "print(X.shape)\n",
    "display(X)\n",
    "\n",
    "labels = data[:,8]\n",
    "print(labels.shape)\n",
    "display(labels)\n",
    "\n",
    "Y = keras.utils.to_categorical(labels, len(np.unique(labels)))"
   ]
  },
  {
   "cell_type": "code",
   "execution_count": 10,
   "metadata": {},
   "outputs": [
    {
     "data": {
      "image/png": "[encoded data removed]",
      "text/latex": [
       "$$8$$"
      ],
      "text/plain": [
       "8"
      ]
     },
     "metadata": {},
     "output_type": "display_data"
    }
   ],
   "source": [
    "input_size = X.shape[1]\n",
    "output_size = Y.shape[1]\n",
    "display(X.shape[1])"
   ]
  },
  {
   "cell_type": "code",
   "execution_count": 11,
   "metadata": {},
   "outputs": [
    {
     "name": "stdout",
     "output_type": "stream",
     "text": [
      "_________________________________________________________________\n",
      "Layer (type)                 Output Shape              Param #   \n",
      "=================================================================\n",
      "dense_1 (Dense)              (None, 64)                576       \n",
      "_________________________________________________________________\n",
      "dense_2 (Dense)              (None, 64)                4160      \n",
      "_________________________________________________________________\n",
      "dense_3 (Dense)              (None, 3)                 195       \n",
      "=================================================================\n",
      "Total params: 4,931\n",
      "Trainable params: 4,931\n",
      "Non-trainable params: 0\n",
      "_________________________________________________________________\n",
      "None\n"
     ]
    }
   ],
   "source": [
    "model = keras.models.Sequential()\n",
    "\n",
    "model.add(keras.layers.Dense(64,input_dim=8,activation='relu', bias_initializer=keras.initializers.Constant(value=0.01)))\n",
    "model.add(keras.layers.Dense(64,input_dim=8,activation='sigmoid', bias_initializer=keras.initializers.Constant(value=0.01)))\n",
    "\n",
    "model.add(keras.layers.Dense(3,activation='softmax'))\n",
    "#categorical_crossentropy\n",
    "model.compile(loss='categorical_crossentropy',optimizer='adam',metrics=['accuracy'])\n",
    "\n",
    "print(model.summary())"
   ]
  },
  {
   "cell_type": "code",
   "execution_count": 12,
   "metadata": {},
   "outputs": [
    {
     "data": {
      "application/vnd.jupyter.widget-view+json": {
       "model_id": "cba11f4fda6642b4a4d58e0fdb01ccb0",
       "version_major": 2,
       "version_minor": 0
      },
      "text/plain": [
       "HBox(children=(IntProgress(value=0, description='Training', style=ProgressStyle(description_width='initial')),…"
      ]
     },
     "metadata": {},
     "output_type": "display_data"
    },
    {
     "data": {
      "application/vnd.jupyter.widget-view+json": {
       "model_id": "",
       "version_major": 2,
       "version_minor": 0
      },
      "text/plain": [
       "HBox(children=(IntProgress(value=0, description='Epoch 0', max=204, style=ProgressStyle(description_width='ini…"
      ]
     },
     "metadata": {},
     "output_type": "display_data"
    },
    {
     "name": "stdout",
     "output_type": "stream",
     "text": [
      "\n"
     ]
    }
   ],
   "source": [
    "history = model.fit(X, Y,\n",
    "    batch_size=56, \n",
    "    epochs=100, \n",
    "    verbose=0,\n",
    "    callbacks=[TQDMNotebookCallback()],\n",
    "    validation_split = 0.2)\n"
   ]
  },
  {
   "cell_type": "code",
   "execution_count": 13,
   "metadata": {},
   "outputs": [
    {
     "data": {
      "image/png": "[encoded data removed]",
      "text/plain": [
       "<Figure size 432x288 with 2 Axes>"
      ]
     },
     "metadata": {
      "needs_background": "light"
     },
     "output_type": "display_data"
    },
    {
     "name": "stdout",
     "output_type": "stream",
     "text": [
      "255/255 [==============================] - 0s 41us/step\n",
      "Test loss: 0.015210015056472199\n",
      "Test accuracy: 1.0\n"
     ]
    }
   ],
   "source": [
    "plt.figure(1)\n",
    "\n",
    "plt.subplot(211)\n",
    "plt.plot(history.history['acc'])\n",
    "plt.plot(history.history['val_acc'])\n",
    "plt.title('model accuracy')\n",
    "plt.ylabel('accuracy')\n",
    "plt.xlabel('epoch')\n",
    "plt.legend(['train', 'test'], loc='upper left')\n",
    "\n",
    "plt.subplot(212)\n",
    "plt.plot(history.history['loss'])\n",
    "plt.plot(history.history['val_loss'])\n",
    "plt.title('model loss')\n",
    "plt.ylabel('loss')\n",
    "plt.xlabel('epoch')\n",
    "plt.legend(['train', 'test'], loc='upper left')\n",
    "plt.tight_layout()\n",
    "plt.show()\n",
    "\n",
    "score = model.evaluate(X, Y, verbose=1)\n",
    "print('Test loss:', score[0])\n",
    "print('Test accuracy:', score[1])"
   ]
  },
  {
   "cell_type": "code",
   "execution_count": 14,
   "metadata": {},
   "outputs": [],
   "source": [
    "model.save_weights('MLN.weights')\n",
    "model.save('MLN.model')"
   ]
  },
  {
   "cell_type": "code",
   "execution_count": null,
   "metadata": {},
   "outputs": [],
   "source": []
  }
 ],
 "metadata": {
  "kernelspec": {
   "display_name": "Python 3",
   "language": "python",
   "name": "python3"
  },
  "language_info": {
   "codemirror_mode": {
    "name": "ipython",
    "version": 3
   },
   "file_extension": ".py",
   "mimetype": "text/x-python",
   "name": "python",
   "nbconvert_exporter": "python",
   "pygments_lexer": "ipython3",
   "version": "3.6.7"
  }
 },
 "nbformat": 4,
 "nbformat_minor": 2
}
