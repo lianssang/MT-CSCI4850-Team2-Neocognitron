{
 "cells": [
  {
   "cell_type": "markdown",
   "metadata": {},
   "source": [
    "\n",
    "\n",
    "### Conduct a PCA:"
   ]
  },
  {
   "cell_type": "markdown",
   "metadata": {},
   "source": [
    "First we will import all packages and tools necessary for the Project..."
   ]
  },
  {
   "cell_type": "code",
   "execution_count": 1,
   "metadata": {},
   "outputs": [
    {
     "name": "stderr",
     "output_type": "stream",
     "text": [
      "Using TensorFlow backend.\n"
     ]
    }
   ],
   "source": [
    "import numpy as np\n",
    "import keras\n",
    "import pandas\n",
    "import matplotlib.pyplot as plt\n",
    "%matplotlib inline\n",
    "from sklearn import preprocessing\n",
    "from sklearn.decomposition import PCA\n",
    "from sklearn.preprocessing import StandardScaler\n",
    "from sympy import *\n",
    "init_printing(use_latex=True)\n",
    "from IPython.display import display"
   ]
  },
  {
   "cell_type": "markdown",
   "metadata": {},
   "source": [
    "We bring in all the training data taken, then get rid of any vectors that contain nan values because they will help train out network.  We use a scaler on the data to standardise it.  We then bring in our test data, for the Partial Component Analysis(PCA) and testing.  This will give us a better idea of weither or not we will have success with our data by examining the variance to features.  We also use the same function devised to transform our training data to transform our testing data, so the network is not misinformed about the relationships in the features."
   ]
  },
  {
   "cell_type": "code",
   "execution_count": 3,
   "metadata": {},
   "outputs": [
    {
     "name": "stdout",
     "output_type": "stream",
     "text": [
      "[[-45. -45. -46. -47. -55. -57. -57. -61.   0.]\n",
      " [-46. -46. -54. -54. -57. -54. -58. -60.   0.]\n",
      " [-45. -45. -46. -46. -56. -54. -58. -60.   0.]\n",
      " [-46. -46. -46. -53. -55. -55. -58. -58.   0.]\n",
      " [-47. -46. -46. -46. -54. -55. -58. -58.   0.]\n",
      " [-45. -45. -47. -59. -56. -54. -58. -57.   0.]\n",
      " [-47. -46. -47. -47. -56. -55. -59. -58.   0.]\n",
      " [-45. -45. -44. -56. -56. -55. -58. -58.   0.]]\n",
      "(1543, 9)\n",
      "[[-45. -45. -46. -47. -55. -57. -57. -61.   0.]\n",
      " [-46. -46. -54. -54. -57. -54. -58. -60.   0.]\n",
      " [-45. -45. -46. -46. -56. -54. -58. -60.   0.]\n",
      " [-46. -46. -46. -53. -55. -55. -58. -58.   0.]\n",
      " [-47. -46. -46. -46. -54. -55. -58. -58.   0.]\n",
      " [-45. -45. -47. -59. -56. -54. -58. -57.   0.]\n",
      " [-47. -46. -47. -47. -56. -55. -59. -58.   0.]\n",
      " [-45. -45. -44. -56. -56. -55. -58. -58.   0.]]\n"
     ]
    },
    {
     "data": {
      "image/png": "[encoded data removed]",
      "text/latex": [
       "$$\\left ( 1579, \\quad 9\\right )$$"
      ],
      "text/plain": [
       "(1579, 9)"
      ]
     },
     "execution_count": 3,
     "metadata": {},
     "output_type": "execute_result"
    }
   ],
   "source": [
    "data = np.array(pandas.read_csv(\"./Demo/training_noavg.csv\", header=0))\n",
    "## bring in loc 0 -1 test data for PCA\n",
    "data1 = np.array(pandas.read_csv(\"./Demo/test1.csv\", header=0))\n",
    "data2 = np.array(pandas.read_csv(\"./Demo/test2.csv\", header=0))\n",
    "data3 = np.array(pandas.read_csv(\"./Demo/test3.csv\", header=0))\n",
    "## Have to drop all teh rows that have nan values because they will not help with net\n",
    "## clean out rows with nan values\n",
    "data = data[~np.isnan(data).any(axis=1)]\n",
    "data1 = data1[~np.isnan(data1).any(axis=1)]\n",
    "data2 = data2[~np.isnan(data2).any(axis=1)]\n",
    "data3 = data3[~np.isnan(data3).any(axis=1)]\n",
    "\n",
    "print(data[:8])\n",
    "print(data.shape)\n",
    "\n",
    "data = np.vstack((data,data1,data2,data3))\n",
    "print(data[:8])\n",
    "data.shape"
   ]
  },
  {
   "cell_type": "code",
   "execution_count": 4,
   "metadata": {},
   "outputs": [
    {
     "data": {
      "image/png": "[encoded data removed]",
      "text/latex": [
       "$$\\left ( 1579, \\quad 8\\right )$$"
      ],
      "text/plain": [
       "(1579, 8)"
      ]
     },
     "metadata": {},
     "output_type": "display_data"
    },
    {
     "data": {
      "image/png": "[encoded data removed]",
      "text/latex": [
       "$$\\left ( 1579\\right )$$"
      ],
      "text/plain": [
       "(1579,)"
      ]
     },
     "metadata": {},
     "output_type": "display_data"
    },
    {
     "data": {
      "text/latex": [
       "$$\\left[\\begin{matrix}0.0 & 1.0 & 2.0 & 3.0\\end{matrix}\\right]$$"
      ],
      "text/plain": [
       "[0.0  1.0  2.0  3.0]"
      ]
     },
     "metadata": {},
     "output_type": "display_data"
    },
    {
     "data": {
      "text/plain": [
       "array([[-0.47867833,  0.94197069,  0.59669927,  0.40920824, -0.97487193,\n",
       "        -0.29237974, -1.44637871, -0.61627818],\n",
       "       [-0.83253276,  0.69813926, -1.19666385, -1.32373377, -1.44525322,\n",
       "         0.73812832, -1.77674642, -0.40108507],\n",
       "       [-0.47867833,  0.94197069,  0.59669927,  0.65677138, -1.21006257,\n",
       "         0.73812832, -1.77674642, -0.40108507],\n",
       "       [-0.83253276,  0.69813926,  0.59669927, -1.07617063, -0.97487193,\n",
       "         0.39462564, -1.77674642,  0.02930115],\n",
       "       [-1.1863872 ,  0.69813926,  0.59669927,  0.65677138, -0.73968128,\n",
       "         0.39462564, -1.77674642,  0.02930115],\n",
       "       [-0.47867833,  0.94197069,  0.37252888, -2.56154949, -1.21006257,\n",
       "         0.73812832, -1.77674642,  0.24449426],\n",
       "       [-1.1863872 ,  0.69813926,  0.37252888,  0.40920824, -1.21006257,\n",
       "         0.39462564, -2.10711413,  0.02930115],\n",
       "       [-0.47867833,  0.94197069,  1.04504006, -1.81886006, -1.21006257,\n",
       "         0.39462564, -1.77674642,  0.02930115]])"
      ]
     },
     "metadata": {},
     "output_type": "display_data"
    }
   ],
   "source": [
    "# vectors AND class labels...\n",
    "X = data[:,0:8] # 0 thru 30\n",
    "Y = data[:,8] # 30\n",
    "\n",
    "scaler = StandardScaler()\n",
    "# standardize X .. will mean center data\n",
    "X = scaler.fit_transform(X)\n",
    "\n",
    "# Pretty-print with display()!\n",
    "display(X.shape)\n",
    "display(Y.shape)\n",
    "display(Matrix(np.unique(Y)).T)\n",
    "display(X[0:8])"
   ]
  },
  {
   "cell_type": "markdown",
   "metadata": {},
   "source": [
    "Here we can see that our training data and testing data has been combined so we can analyse it all at the same time.  We use singular value decomposition, to examine each feature component and how it effects the total variance of the data."
   ]
  },
  {
   "cell_type": "code",
   "execution_count": 5,
   "metadata": {},
   "outputs": [
    {
     "data": {
      "image/png": "[encoded data removed]",
      "text/plain": [
       "<Figure size 432x288 with 1 Axes>"
      ]
     },
     "metadata": {
      "needs_background": "light"
     },
     "output_type": "display_data"
    }
   ],
   "source": [
    "U,S,V = np.linalg.svd(X,full_matrices=True)\n",
    "\n",
    "# Percent variance accounted for\n",
    "plt.plot(100.0*S/np.sum(S))\n",
    "plt.ylabel('% Var')\n",
    "plt.xlabel('Singular Value')\n",
    "plt.show()"
   ]
  },
  {
   "cell_type": "code",
   "execution_count": 17,
   "metadata": {},
   "outputs": [
    {
     "data": {
      "image/png": "[encoded data removed]",
      "text/latex": [
       "$$53.90644529145641$$"
      ],
      "text/plain": [
       "53.90644529145641"
      ]
     },
     "execution_count": 17,
     "metadata": {},
     "output_type": "execute_result"
    }
   ],
   "source": [
    "# Variance accounted for in the first two principal components\n",
    "100.0*(S[0]+S[1])/np.sum(S)"
   ]
  },
  {
   "cell_type": "markdown",
   "metadata": {},
   "source": [
    "We see that more than 53% of the variance is accounted for by the first two principal components, so they should give use some dece3nt information about the desicion boundries our network will see."
   ]
  },
  {
   "cell_type": "code",
   "execution_count": 6,
   "metadata": {},
   "outputs": [
    {
     "data": {
      "image/png": "[encoded data removed]",
      "text/latex": [
       "$$\\left ( 1579, \\quad 2\\right )$$"
      ],
      "text/plain": [
       "(1579, 2)"
      ]
     },
     "execution_count": 6,
     "metadata": {},
     "output_type": "execute_result"
    }
   ],
   "source": [
    "# Scale the singular vectors, resulting in a rotated form of our mean-centered data\n",
    "D = np.zeros([X.shape[0],X.shape[1]])\n",
    "np.fill_diagonal(D,S)\n",
    "Xrotated = np.dot(U,D)\n",
    "# Extract just the first two principal components!\n",
    "PCs = Xrotated[:,0:2]\n",
    "PCs.shape"
   ]
  },
  {
   "cell_type": "markdown",
   "metadata": {},
   "source": [
    "Here we use the matplot lib package and associate colors to the data that describes each class, as well as our testing data."
   ]
  },
  {
   "cell_type": "code",
   "execution_count": 7,
   "metadata": {},
   "outputs": [
    {
     "data": {
      "image/png": "[encoded data removed]",
      "text/plain": [
       "<Figure size 432x288 with 1 Axes>"
      ]
     },
     "metadata": {
      "needs_background": "light"
     },
     "output_type": "display_data"
    }
   ],
   "source": [
    "# The x and y values come from the two\n",
    "# Principal Components and the colors for\n",
    "# each point are selected based on the\n",
    "# corresponding class for each point...\n",
    "plt.scatter(PCs[:,0],PCs[:,1],\n",
    "color=[['red','green','blue','orange'][i] for i in Y.astype(int)])\n",
    "plt.xlabel(\"PC1\")\n",
    "plt.ylabel(\"PC2\")\n",
    "plt.show()"
   ]
  },
  {
   "cell_type": "markdown",
   "metadata": {},
   "source": [
    "The graph suggests that we will be able to create descision boundries fairly easily because our classses are very well grouped.  The orange dots represent the testing data, we can clearly see three seperate groupings that coincide with the three location classes.  This gives us a high level of confidence that our method will work."
   ]
  },
  {
   "cell_type": "markdown",
   "metadata": {},
   "source": [
    "At this point you should open up the Project_Multilayer_Net_2.ipynb and follow allong with building the network.  Then once that is complete, come back to this point and run through the rest of this demo to see the testing phase.\n",
    "\n",
    "https://github.com/CSCI4850/S19-team2-project/blob/master/Demo/Project_Multilayer_Net_2.ipynb\n",
    "\n",
    "Now that we have a trained network we will bring back in the training and testing data (you may have to re import the first cell with our packages), we can now see how to give our saved model a vector to predict.  THe testing data is stored as test vectors for each loacation.  We can see under the next cell that the first loaction accounts for the first 14 testing vectors and the 2nd location, the next 11."
   ]
  },
  {
   "cell_type": "code",
   "execution_count": 20,
   "metadata": {},
   "outputs": [
    {
     "name": "stdout",
     "output_type": "stream",
     "text": [
      "(14, 8)\n",
      "(11, 8)\n",
      "(36, 8)\n"
     ]
    }
   ],
   "source": [
    "## bring in data to scale so that testing data is transformed with the same scaling function\n",
    "data = np.array(pandas.read_csv(\"./training_noavg.csv\", header=0))\n",
    "## Have to drop all the rows that have nan values because they will not help with net\n",
    "## clean out rows with nan values\n",
    "data = data[~np.isnan(data).any(axis=1)]\n",
    "X = data[:,0:8]\n",
    "\n",
    "scaler = StandardScaler()\n",
    "X = scaler.fit_transform(X)\n",
    "\n",
    "test1 = np.array(pandas.read_csv(\"./test1.csv\", header=0))\n",
    "test2 = np.array(pandas.read_csv(\"./test2.csv\", header=0))\n",
    "test3 = np.array(pandas.read_csv(\"./test3.csv\", header=0))\n",
    "test1 = test1[:,0:8]\n",
    "test2 = test2[:,0:8]\n",
    "test3 = test3[:,0:8]\n",
    "test1 = test1[~np.isnan(test1).any(axis=1)]\n",
    "test2 = test2[~np.isnan(test2).any(axis=1)]\n",
    "test3 = test3[~np.isnan(test3).any(axis=1)]\n",
    "print(test1.shape)\n",
    "print(test2.shape)\n",
    "test = np.vstack((test1,test2,test3))\n",
    "\n",
    "test = scaler.transform( test )\n",
    "\n",
    "print(test.shape)"
   ]
  },
  {
   "cell_type": "markdown",
   "metadata": {},
   "source": [
    "We no have the function used to standardize our data and we have run it on our testing data so that our network knows how to classify it properly.  We will then load in our netwrok model and weights."
   ]
  },
  {
   "cell_type": "code",
   "execution_count": 21,
   "metadata": {},
   "outputs": [],
   "source": [
    "model = keras.models.load_model('./MLN.model')\n",
    "model.load_weights('./MLN.weights')"
   ]
  },
  {
   "cell_type": "markdown",
   "metadata": {},
   "source": [
    "Now it is simply a matter of using keras' predict function to provide us with the networks best guess at the vectors location class.  Here we use argmax to get the class label, and can look at the probability associated with each vector in relation to each class."
   ]
  },
  {
   "cell_type": "code",
   "execution_count": 22,
   "metadata": {},
   "outputs": [
    {
     "name": "stdout",
     "output_type": "stream",
     "text": [
      "36/36 [==============================] - 0s 2ms/step\n",
      "0\n",
      "[9.9968445e-01 1.4588970e-04 1.6967411e-04]\n",
      "0\n",
      "[9.9962330e-01 1.8215337e-04 1.9444141e-04]\n",
      "0\n",
      "[9.9570894e-01 8.4386364e-04 3.4472430e-03]\n",
      "0\n",
      "[9.9876606e-01 5.6977588e-04 6.6410442e-04]\n",
      "0\n",
      "[9.911083e-01 7.381429e-04 8.153469e-03]\n",
      "0\n",
      "[9.9900240e-01 4.6980544e-04 5.2775902e-04]\n",
      "0\n",
      "[0.94023657 0.00220363 0.05755987]\n",
      "0\n",
      "[9.9957329e-01 1.9717493e-04 2.2947062e-04]\n",
      "0\n",
      "[9.993284e-01 2.914601e-04 3.801830e-04]\n",
      "0\n",
      "[9.9970740e-01 1.3877284e-04 1.5390110e-04]\n",
      "0\n",
      "[9.9968231e-01 1.5028863e-04 1.6740648e-04]\n",
      "0\n",
      "[9.9966884e-01 1.6068536e-04 1.7051739e-04]\n",
      "0\n",
      "[9.9965894e-01 1.4968892e-04 1.9133295e-04]\n",
      "0\n",
      "[9.9968445e-01 1.5928967e-04 1.5623614e-04]\n",
      "1\n",
      "[0.00127999 0.9959037  0.00281639]\n",
      "1\n",
      "[7.1183778e-04 9.9832124e-01 9.6690637e-04]\n",
      "1\n",
      "[3.7411333e-04 9.9923289e-01 3.9296428e-04]\n",
      "1\n",
      "[2.7113431e-04 9.9936134e-01 3.6757241e-04]\n",
      "1\n",
      "[2.1579840e-04 9.9954516e-01 2.3901038e-04]\n",
      "1\n",
      "[4.8526586e-04 9.9856478e-01 9.4987522e-04]\n",
      "1\n",
      "[4.8304655e-04 9.9892896e-01 5.8807252e-04]\n",
      "1\n",
      "[4.9823849e-04 9.9859804e-01 9.0372917e-04]\n",
      "1\n",
      "[1.9554536e-04 9.9959809e-01 2.0634728e-04]\n",
      "1\n",
      "[1.8393877e-04 9.9963260e-01 1.8334821e-04]\n",
      "1\n",
      "[0.00116097 0.99729866 0.00154037]\n",
      "1\n",
      "[0.00439406 0.9139922  0.08161361]\n",
      "2\n",
      "[4.8218368e-04 1.8931467e-04 9.9932849e-01]\n",
      "2\n",
      "[0.01571846 0.02129408 0.9629875 ]\n",
      "2\n",
      "[0.00152372 0.00392608 0.99455017]\n",
      "2\n",
      "[3.480159e-04 6.269629e-04 9.990250e-01]\n",
      "2\n",
      "[0.00159501 0.00144115 0.9969638 ]\n",
      "2\n",
      "[4.4408231e-03 6.9206255e-04 9.9486709e-01]\n",
      "2\n",
      "[0.00145895 0.00103083 0.9975102 ]\n",
      "2\n",
      "[8.1382412e-04 2.2827734e-03 9.9690336e-01]\n",
      "2\n",
      "[5.7298254e-04 5.6781020e-04 9.9885917e-01]\n",
      "2\n",
      "[1.6042426e-02 8.3767128e-04 9.8311990e-01]\n"
     ]
    }
   ],
   "source": [
    "preds = model.predict(test, batch_size=1, verbose=1, steps=None)\n",
    "\n",
    "#print('Predicted:', preds[:])\n",
    "for i in range(0,36):\n",
    "    print(np.argmax(preds[i,]))\n",
    "    print(preds[i])"
   ]
  },
  {
   "cell_type": "markdown",
   "metadata": {},
   "source": [
    "Our network has predicted all 36 of the testing locations correctly(first 14 are loc 0, second 11 are loc1, final 11 are loc 2, as per class labels).  We now have a tool that can be integrated into an application that allows use to fingerprint a location and provide very accurate location information to a user for any prospective reason.  Based on the output we can increase the number of locations by a magnitude of 10^3 and still gain accurate predictions.  This would allow us to have hundreds or thousands of locations.  We will need to test this in the future. This tool has a farily simple structure and short amount of setup and train time."
   ]
  },
  {
   "cell_type": "code",
   "execution_count": null,
   "metadata": {},
   "outputs": [],
   "source": []
  }
 ],
 "metadata": {
  "kernelspec": {
   "display_name": "Python 3",
   "language": "python",
   "name": "python3"
  },
  "language_info": {
   "codemirror_mode": {
    "name": "ipython",
    "version": 3
   },
   "file_extension": ".py",
   "mimetype": "text/x-python",
   "name": "python",
   "nbconvert_exporter": "python",
   "pygments_lexer": "ipython3",
   "version": "3.6.7"
  }
 },
 "nbformat": 4,
 "nbformat_minor": 2
}
