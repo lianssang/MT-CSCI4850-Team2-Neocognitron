{
 "cells": [
  {
   "cell_type": "markdown",
   "metadata": {},
   "source": [
    "In the code segment below, we import the tools we are going to need and bring in our training data. After that on the tenth line of the code we remove any nan values in the data. Then in the next line we randomize the order of the data. The last line we print the shape of the array our data is stored in."
   ]
  },
  {
   "cell_type": "code",
   "execution_count": 15,
   "metadata": {},
   "outputs": [
    {
     "name": "stdout",
     "output_type": "stream",
     "text": [
      "(1543, 9)\n"
     ]
    }
   ],
   "source": [
    "import numpy as np\n",
    "import keras\n",
    "import pandas\n",
    "from keras_tqdm import TQDMNotebookCallback\n",
    "from sklearn.preprocessing import StandardScaler\n",
    "\n",
    "data = np.array(pandas.read_csv(\"./training_noavg.csv\", header=0))\n",
    "## Have to drop all the rows that have nan values because they will not help with net\n",
    "## clean out rows with nan values\n",
    "data = data[~np.isnan(data).any(axis=1)]\n",
    "np.random.shuffle(data)\n",
    "\n",
    "print(data.shape)"
   ]
  },
  {
   "cell_type": "markdown",
   "metadata": {},
   "source": [
    "Next, we take and get a standardscaler. next we split the data from what location it is at and put it in x. after we split the data we use the scaler from earlier to transform the data. then we take the locations from earlier and put them in an array label then we use keras.utils.to_categorical to turn it into one hot encoding."
   ]
  },
  {
   "cell_type": "code",
   "execution_count": 16,
   "metadata": {},
   "outputs": [
    {
     "name": "stdout",
     "output_type": "stream",
     "text": [
      "(1543, 8)\n"
     ]
    },
    {
     "data": {
      "text/plain": [
       "array([[-2.94439193, -0.76184435, -0.29408942, ...,  0.74520521,\n",
       "         1.18529535,  0.0363514 ],\n",
       "       [ 0.57228641,  0.20786143,  1.2706691 , ..., -1.64675956,\n",
       "        -0.79404526,  1.11500938],\n",
       "       [ 0.92395424, -1.73155012,  1.04713217, ..., -0.27992255,\n",
       "         1.51518545,  0.252083  ],\n",
       "       ...,\n",
       "       [-0.48271709,  0.93514076, -1.41177407, ...,  0.74520521,\n",
       "         0.19562504, -1.68950137],\n",
       "       [ 0.57228641,  0.20786143,  1.04713217, ..., -1.64675956,\n",
       "        -1.12393536,  1.33074098],\n",
       "       [-0.13104926,  1.1775672 , -1.18823714, ...,  0.74520521,\n",
       "         0.19562504, -1.47376977]])"
      ]
     },
     "metadata": {},
     "output_type": "display_data"
    },
    {
     "name": "stdout",
     "output_type": "stream",
     "text": [
      "(1543,)\n"
     ]
    },
    {
     "data": {
      "text/plain": [
       "array([2., 1., 2., ..., 0., 1., 0.])"
      ]
     },
     "metadata": {},
     "output_type": "display_data"
    }
   ],
   "source": [
    "from sympy import *\n",
    "init_printing(use_latex=True)\n",
    "\n",
    "import matplotlib.pyplot as plt\n",
    "%matplotlib inline\n",
    "\n",
    "## we will use scaled data\n",
    "scaler = StandardScaler()\n",
    "## when testing predicitions\n",
    "## X = scaler.fit_transform( X )\n",
    "## test = scaler.transform( test )\n",
    "\n",
    "X = data[:,0:8]\n",
    "X = scaler.fit_transform(X)\n",
    "print(X.shape)\n",
    "display(X)\n",
    "\n",
    "labels = data[:,8]\n",
    "print(labels.shape)\n",
    "display(labels)\n",
    "\n",
    "Y = keras.utils.to_categorical(labels, len(np.unique(labels)))"
   ]
  },
  {
   "cell_type": "code",
   "execution_count": 17,
   "metadata": {},
   "outputs": [
    {
     "data": {
      "image/png": "[encoded data removed]",
      "text/latex": [
       "$$8$$"
      ],
      "text/plain": [
       "8"
      ]
     },
     "metadata": {},
     "output_type": "display_data"
    }
   ],
   "source": [
    "input_size = X.shape[1]\n",
    "output_size = Y.shape[1]\n",
    "display(X.shape[1])"
   ]
  },
  {
   "cell_type": "markdown",
   "metadata": {},
   "source": [
    "The code below is the declaration of the network. we are using a multilayer net the hidden layers are declared on the third and fourth lines below. They are both given 64 hidden units and fed the input dimensions which is the number of columns in this case 8. In the first hidden layer we used the relu activation function and the second is using sigmoid. we are using these activation functions because they proved to work the best for our data set. and we have set the bis initializers to 0.01. For the output layer which is on line 6 of the code below we used the activation function SoftMax. And then we compile the model using the categorical crossentropy loss function and adam and the optimizer. the output below the code segment is the summary of the model."
   ]
  },
  {
   "cell_type": "code",
   "execution_count": 18,
   "metadata": {},
   "outputs": [
    {
     "name": "stdout",
     "output_type": "stream",
     "text": [
      "_________________________________________________________________\n",
      "Layer (type)                 Output Shape              Param #   \n",
      "=================================================================\n",
      "dense_4 (Dense)              (None, 64)                576       \n",
      "_________________________________________________________________\n",
      "dense_5 (Dense)              (None, 64)                4160      \n",
      "_________________________________________________________________\n",
      "dense_6 (Dense)              (None, 3)                 195       \n",
      "=================================================================\n",
      "Total params: 4,931\n",
      "Trainable params: 4,931\n",
      "Non-trainable params: 0\n",
      "_________________________________________________________________\n",
      "None\n"
     ]
    }
   ],
   "source": [
    "model = keras.models.Sequential()\n",
    "\n",
    "model.add(keras.layers.Dense(64,input_dim=8,activation='relu', bias_initializer=keras.initializers.Constant(value=0.01)))\n",
    "model.add(keras.layers.Dense(64,input_dim=8,activation='sigmoid', bias_initializer=keras.initializers.Constant(value=0.01)))\n",
    "\n",
    "model.add(keras.layers.Dense(3,activation='softmax'))\n",
    "#categorical_crossentropy\n",
    "model.compile(loss='categorical_crossentropy',optimizer='adam',metrics=['accuracy'])\n",
    "\n",
    "print(model.summary())"
   ]
  },
  {
   "cell_type": "markdown",
   "metadata": {},
   "source": [
    "Now we train the model with our training data. for our data set 100 epochs was enough, but a different data set may need more or less, epochs is the number of times the modal runs through the data set. we are using a validation split to check the accuracy of the modal on data it is not training on. a validation split takes part of the training data and keeps it to test with instead of training with it."
   ]
  },
  {
   "cell_type": "code",
   "execution_count": 19,
   "metadata": {},
   "outputs": [
    {
     "data": {
      "application/vnd.jupyter.widget-view+json": {
       "model_id": "dd0f397e3289473ca5a3677458964457",
       "version_major": 2,
       "version_minor": 0
      },
      "text/plain": [
       "HBox(children=(IntProgress(value=0, description='Training', style=ProgressStyle(description_width='initial')),…"
      ]
     },
     "metadata": {},
     "output_type": "display_data"
    },
    {
     "data": {
      "application/vnd.jupyter.widget-view+json": {
       "model_id": "",
       "version_major": 2,
       "version_minor": 0
      },
      "text/plain": [
       "HBox(children=(IntProgress(value=0, description='Epoch 0', max=1234, style=ProgressStyle(description_width='in…"
      ]
     },
     "metadata": {},
     "output_type": "display_data"
    },
    {
     "name": "stdout",
     "output_type": "stream",
     "text": [
      "\n"
     ]
    }
   ],
   "source": [
    "history = model.fit(X, Y,\n",
    "    batch_size=56, \n",
    "    epochs=100, \n",
    "    verbose=0,\n",
    "    callbacks=[TQDMNotebookCallback()],\n",
    "    validation_split = 0.2)"
   ]
  },
  {
   "cell_type": "code",
   "execution_count": 20,
   "metadata": {},
   "outputs": [
    {
     "data": {
      "image/png": "[encoded data removed]",
      "text/plain": [
       "<Figure size 432x288 with 2 Axes>"
      ]
     },
     "metadata": {
      "needs_background": "light"
     },
     "output_type": "display_data"
    },
    {
     "name": "stdout",
     "output_type": "stream",
     "text": [
      "1543/1543 [==============================] - 0s 45us/step\n",
      "Test loss: 0.000774434064955925\n",
      "Test accuracy: 0.9993519118600129\n"
     ]
    }
   ],
   "source": [
    "plt.figure(1)\n",
    "\n",
    "plt.subplot(211)\n",
    "plt.plot(history.history['acc'])\n",
    "plt.plot(history.history['val_acc'])\n",
    "plt.title('model accuracy')\n",
    "plt.ylabel('accuracy')\n",
    "plt.xlabel('epoch')\n",
    "plt.legend(['train', 'test'], loc='upper left')\n",
    "\n",
    "plt.subplot(212)\n",
    "plt.plot(history.history['loss'])\n",
    "plt.plot(history.history['val_loss'])\n",
    "plt.title('model loss')\n",
    "plt.ylabel('loss')\n",
    "plt.xlabel('epoch')\n",
    "plt.legend(['train', 'test'], loc='upper left')\n",
    "plt.tight_layout()\n",
    "plt.show()\n",
    "\n",
    "score = model.evaluate(X, Y, verbose=1)\n",
    "print('Test loss:', score[0])\n",
    "print('Test accuracy:', score[1])"
   ]
  },
  {
   "cell_type": "markdown",
   "metadata": {},
   "source": [
    "Above are graphs that show how the model did in its training as you can see the accuracy is basically 100%. and the loss is low that is what we are looking for. and right below we are saving the model and its weights to be used in the demo."
   ]
  },
  {
   "cell_type": "code",
   "execution_count": 21,
   "metadata": {},
   "outputs": [],
   "source": [
    "model.save_weights('./Demo/MLN.weights')\n",
    "model.save('./Demo/MLN.model')"
   ]
  },
  {
   "cell_type": "code",
   "execution_count": null,
   "metadata": {},
   "outputs": [],
   "source": []
  }
 ],
 "metadata": {
  "kernelspec": {
   "display_name": "Python 3",
   "language": "python",
   "name": "python3"
  },
  "language_info": {
   "codemirror_mode": {
    "name": "ipython",
    "version": 3
   },
   "file_extension": ".py",
   "mimetype": "text/x-python",
   "name": "python",
   "nbconvert_exporter": "python",
   "pygments_lexer": "ipython3",
   "version": "3.6.7"
  }
 },
 "nbformat": 4,
 "nbformat_minor": 2
}
