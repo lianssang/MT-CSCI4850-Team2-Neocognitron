{
 "cells": [
  {
   "cell_type": "code",
   "execution_count": 30,
   "metadata": {},
   "outputs": [
    {
     "name": "stdout",
     "output_type": "stream",
     "text": [
      "(72, 7)\n"
     ]
    }
   ],
   "source": [
    "import numpy as np\n",
    "import keras\n",
    "import pandas\n",
    "from keras_tqdm import TQDMNotebookCallback\n",
    "from sklearn import preprocessing\n",
    "\n",
    "data = np.array(pandas.read_csv(\"~/trainingdata.csv\", header=0))\n",
    "\n",
    "print(data.shape)\n"
   ]
  },
  {
   "cell_type": "code",
   "execution_count": 31,
   "metadata": {},
   "outputs": [
    {
     "name": "stdout",
     "output_type": "stream",
     "text": [
      "(72, 6)\n"
     ]
    },
    {
     "data": {
      "text/plain": [
       "array([[-1.0233435 , -0.37716553, -0.34893403,  0.32330268, -0.05200758,\n",
       "         0.37994185],\n",
       "       [-0.7046986 , -0.45616456,  0.97833202, -0.01720953, -0.93794118,\n",
       "        -0.68779499],\n",
       "       [-0.66929361, -1.40415296,  1.04153517,  1.00432709, -1.61125071,\n",
       "        -0.80643241],\n",
       "       [-0.59848363, -1.32515393,  1.48395719,  0.89082302, -1.18600258,\n",
       "        -1.6368944 ],\n",
       "       [-0.74010359, -0.29816649, -0.53854347,  0.32330268, -0.09925737,\n",
       "         0.6172167 ],\n",
       "       [ 1.48155945,  0.17582771, -0.58594583,  1.91235964,  0.9717379 ,\n",
       "         1.12142576],\n",
       "       [ 1.56122067,  0.41282481, -0.60174661,  1.23133522,  1.18829945,\n",
       "        -0.80643241],\n",
       "       [-0.77550858,  0.33382578, -0.79135605, -0.24421767, -0.00475779,\n",
       "        -0.56915756],\n",
       "       [ 1.27798076,  0.80781998, -0.55961118, -0.4712258 ,  1.12923721,\n",
       "         1.09176641],\n",
       "       [-0.66929361, -0.77216069,  0.67811708, -0.4712258 , -1.56400092,\n",
       "        -0.68779499],\n",
       "       [ 1.45500571,  1.28181418,  0.28309742, -1.03874615,  1.71985961,\n",
       "         1.56631611],\n",
       "       [-0.66929361, -0.85115973,  1.02046745, -0.4712258 , -1.51675113,\n",
       "        -0.92506984],\n",
       "       [ 1.20717079,  1.51881128, -0.34893403, -0.58472987,  1.36548617,\n",
       "         1.92222839],\n",
       "       [ 1.95067555,  2.15080355, -0.8545592 , -1.15225021,  0.89298825,\n",
       "         1.32904126],\n",
       "       [ 1.39304698,  1.04481708, -0.60174661, -1.37925835,  1.01111273,\n",
       "         0.97312898],\n",
       "       [-0.49226867, -1.56215103,  1.73676977,  0.66381488, -0.80800425,\n",
       "        -0.80643241],\n",
       "       [-0.59848363, -1.2461549 ,  0.83612495,  1.23133522, -0.85525404,\n",
       "        -0.80643241],\n",
       "       [ 1.52581568,  0.49182384, -0.66494976,  2.0258637 ,  0.89298825,\n",
       "         0.6172167 ],\n",
       "       [-0.71650026, -0.61416263, -0.66494976,  0.13412923, -0.09925737,\n",
       "        -0.21324528],\n",
       "       [-0.66929361, -0.61416263,  1.67356662, -0.24421767, -1.37500175,\n",
       "        -0.65813563],\n",
       "       [ 1.38419573,  1.20281515, -0.60174661, -0.58472987,  1.12923721,\n",
       "         1.09176641],\n",
       "       [-0.88172354, -0.14016842, -1.23377807, -1.15225021,  0.042492  ,\n",
       "        -1.10302598],\n",
       "       [-0.59848363, -1.32515393,  1.10473831,  1.00432709, -0.94975363,\n",
       "        -0.80643241],\n",
       "       [-0.49226867, -1.2461549 ,  1.92637921,  0.32330268, -1.18600258,\n",
       "        -1.51825697],\n",
       "       [-0.6869961 , -0.45616456, -1.48659065, -0.10233758, -0.00475779,\n",
       "        -0.21324528],\n",
       "       [ 1.03899709,  1.61756007, -0.19092617, -1.15225021,  1.54267289,\n",
       "         2.45609681],\n",
       "       [-0.63388862, -0.69316166,  1.48395719, -0.35772173, -1.46950133,\n",
       "        -0.80643241],\n",
       "       [ 0.99474085,  0.72882095, -0.72815291,  1.79885557,  1.176487  ,\n",
       "         1.41801933],\n",
       "       [-0.63388862, -1.40415296,  1.3575509 ,  0.32330268, -1.42225154,\n",
       "        -0.68779499],\n",
       "       [-0.53947532, -0.06116939, -0.91776234, -0.95361809, -0.00475779,\n",
       "         0.26130442],\n",
       "       [-0.73125234, -0.06116939, -0.34893403,  0.70164957, -0.05200758,\n",
       "         0.49857928],\n",
       "       [-0.77550858, -0.77216069,  1.04153517, -0.35772173, -0.80800425,\n",
       "        -0.68779499],\n",
       "       [ 1.49041069,  1.04481708,  0.28309742, -0.81173801,  1.83798408,\n",
       "         1.12142576],\n",
       "       [-0.480467  ,  0.01782964, -1.04416863, -0.10233758, -0.05200758,\n",
       "        -0.45052013],\n",
       "       [-0.7046986 , -0.25866697, -0.91776234, -0.58472987, -0.19375696,\n",
       "        -0.33188271],\n",
       "       [-0.6869961 , -0.15991818, -0.53854347, -0.24421767, -0.00475779,\n",
       "         0.02402957],\n",
       "       [-0.59848363, -0.69316166,  1.2311446 , -0.24421767, -1.46950133,\n",
       "        -1.04370727],\n",
       "       [-0.77550858, -0.06116939, -1.10737178, -0.10233758, -0.09925737,\n",
       "        -0.21324528],\n",
       "       [ 1.13636081,  1.43981225,  0.17775885, -1.15225021,  1.48361065,\n",
       "         0.67653542],\n",
       "       [ 1.45500571,  1.20281515, -0.66494976, -1.60626649,  1.12923721,\n",
       "         1.32904126],\n",
       "       [-1.07055015, -0.14016842, -0.8545592 ,  0.32330268,  0.13699158,\n",
       "         0.37994185],\n",
       "       [-0.81091356, -0.15991818, -0.66494976,  0.20979861,  0.08974179,\n",
       "         0.6172167 ],\n",
       "       [-0.81091356,  0.01782964, -1.04416863, -0.81173801, -0.09925737,\n",
       "        -0.45052013],\n",
       "       [ 1.52581568,  1.28181418, -0.42793796,  2.36637591,  1.05048756,\n",
       "         0.37994185],\n",
       "       [-0.66929361, -1.483152  ,  0.83612495,  1.00432709, -1.75300008,\n",
       "        -0.92506984],\n",
       "       [-0.77550858, -0.37716553, -0.98096549, -0.10233758, -0.09925737,\n",
       "         0.142667  ],\n",
       "       [-0.71650026,  0.23507699, -0.72815291, -0.52797784, -0.05200758,\n",
       "         0.49857928],\n",
       "       [ 1.34879074,  1.20281515, -0.77028834, -0.69823394,  1.36548617,\n",
       "         1.7146129 ],\n",
       "       [-0.33294622, -0.37716553, -0.98096549, -0.24421767, -0.05200758,\n",
       "         0.02402957],\n",
       "       [-0.95253352, -0.15991818, -1.10737178,  0.32330268, -0.00475779,\n",
       "        -0.56915756],\n",
       "       [ 1.52581568,  2.15080355, -1.92901267, -0.92524208,  0.30236585,\n",
       "         1.92222839],\n",
       "       [ 1.45500571,  0.96581805, -0.34893403,  2.82039218,  1.24736169,\n",
       "         0.85449156],\n",
       "       [-0.59848363, -0.65366214,  1.04153517,  0.32330268, -0.94975363,\n",
       "        -1.16234469],\n",
       "       [ 1.34879074,  1.91380645, -0.34893403, -1.71977056,  1.176487  ,\n",
       "         1.09176641],\n",
       "       [ 0.95933587,  1.04481708,  0.36210135, -0.81173801,  1.77892185,\n",
       "         0.8248322 ],\n",
       "       [-0.56307864, -0.45616456,  0.59911315,  0.20979861, -0.71350467,\n",
       "        -0.80643241],\n",
       "       [-0.63388862, -1.40415296,  1.15214067,  0.89082302, -1.42225154,\n",
       "        -0.9547292 ],\n",
       "       [-0.88172354, -1.16715586,  1.98958235,  0.89082302, -0.66625488,\n",
       "        -1.04370727],\n",
       "       [-0.52767366, -1.08815683,  1.54716033, -0.01720953, -0.66625488,\n",
       "        -0.80643241],\n",
       "       [ 1.56122067,  0.96581805, -0.60174661,  2.36637591,  0.75123888,\n",
       "         0.142667  ],\n",
       "       [-0.66929361, -0.61416263,  1.3575509 , -0.24421767, -1.6585005 ,\n",
       "        -0.80643241],\n",
       "       [-0.480467  , -0.25866697, -0.98096549, -0.43339111, -0.05200758,\n",
       "        -1.6368944 ],\n",
       "       [-0.64273987, -0.37716553, -0.90196156, -0.81173801,  0.042492  ,\n",
       "        -1.39961954],\n",
       "       [-0.74010359, -1.483152  ,  1.67356662,  0.55031081, -1.04425321,\n",
       "        -1.2018905 ],\n",
       "       [ 1.34879074,  1.51881128, -0.66494976, -1.26575428,  1.03473763,\n",
       "         0.6172167 ],\n",
       "       [-0.59848363, -1.16715586,  1.3575509 ,  0.77731895, -0.99700342,\n",
       "        -1.04370727],\n",
       "       [-0.7046986 , -1.32515393,  1.79997291,  0.43680675, -0.71350467,\n",
       "        -0.92506984],\n",
       "       [-0.95253352, -0.37716553, -0.34893403,  0.66381488, -0.05200758,\n",
       "         0.49857928],\n",
       "       [-0.88172354,  0.17582771, -0.72815291, -0.62256456, -0.09925737,\n",
       "        -1.16234469],\n",
       "       [ 1.45500571,  1.59781032, -0.22252774, -2.06028276,  1.41273596,\n",
       "         0.97312898],\n",
       "       [-0.88172354,  0.17582771, -0.34893403,  0.32330268, -0.05200758,\n",
       "         0.26130442],\n",
       "       [ 1.56122067,  1.20281515, -0.72815291, -1.49276242,  1.07017497,\n",
       "         1.92222839]])"
      ]
     },
     "metadata": {},
     "output_type": "display_data"
    },
    {
     "name": "stdout",
     "output_type": "stream",
     "text": [
      "(72,)\n"
     ]
    },
    {
     "data": {
      "text/plain": [
       "array([0., 1., 1., 1., 0., 2., 2., 0., 2., 1., 2., 1., 2., 2., 2., 1., 1.,\n",
       "       2., 0., 1., 2., 0., 1., 1., 0., 2., 1., 2., 1., 0., 0., 1., 2., 0.,\n",
       "       0., 0., 1., 0., 2., 2., 0., 0., 0., 2., 1., 0., 0., 2., 0., 0., 2.,\n",
       "       2., 1., 2., 2., 1., 1., 1., 1., 2., 1., 0., 0., 1., 2., 1., 1., 0.,\n",
       "       0., 2., 0., 2.])"
      ]
     },
     "metadata": {},
     "output_type": "display_data"
    }
   ],
   "source": [
    "from sympy import *\n",
    "init_printing(use_latex=True)\n",
    "\n",
    "import matplotlib.pyplot as plt\n",
    "%matplotlib inline\n",
    "\n",
    "X = data[:,0:6]\n",
    "X = preprocessing.scale(X)\n",
    "print(X.shape)\n",
    "display(X)\n",
    "\n",
    "labels = data[:,6]\n",
    "print(labels.shape)\n",
    "display(labels)\n",
    "\n",
    "Y = keras.utils.to_categorical(labels, len(np.unique(labels)))"
   ]
  },
  {
   "cell_type": "code",
   "execution_count": null,
   "metadata": {},
   "outputs": [],
   "source": [
    "input_size = X.shape[1]\n",
    "output_size = Y.shape[1]\n",
    "display(X.shape[1])"
   ]
  },
  {
   "cell_type": "code",
   "execution_count": 27,
   "metadata": {},
   "outputs": [
    {
     "name": "stdout",
     "output_type": "stream",
     "text": [
      "_________________________________________________________________\n",
      "Layer (type)                 Output Shape              Param #   \n",
      "=================================================================\n",
      "dense_29 (Dense)             (None, 100)               700       \n",
      "_________________________________________________________________\n",
      "dense_30 (Dense)             (None, 100)               10100     \n",
      "_________________________________________________________________\n",
      "dense_31 (Dense)             (None, 100)               10100     \n",
      "_________________________________________________________________\n",
      "dense_32 (Dense)             (None, 3)                 303       \n",
      "=================================================================\n",
      "Total params: 21,203\n",
      "Trainable params: 21,203\n",
      "Non-trainable params: 0\n",
      "_________________________________________________________________\n",
      "None\n"
     ]
    }
   ],
   "source": [
    "model = keras.models.Sequential()\n",
    "\n",
    "model.add(keras.layers.Dense(100,input_dim=6,activation='relu', bias_initializer=keras.initializers.Constant(value=0.01)))\n",
    "model.add(keras.layers.Dense(100,input_dim=6,activation='relu', bias_initializer=keras.initializers.Constant(value=0.01)))\n",
    "model.add(keras.layers.Dense(100,input_dim=6,activation='relu', bias_initializer=keras.initializers.Constant(value=0.01)))\n",
    "\n",
    "model.add(keras.layers.Dense(3,activation='softmax'))\n",
    "#binary_crossentropy\n",
    "model.compile(loss='binary_crossentropy',optimizer='adam',metrics=['accuracy'])\n",
    "\n",
    "print(model.summary())"
   ]
  },
  {
   "cell_type": "code",
   "execution_count": 28,
   "metadata": {},
   "outputs": [
    {
     "data": {
      "application/vnd.jupyter.widget-view+json": {
       "model_id": "29b90860284e47859ea9c47b112d62a9",
       "version_major": 2,
       "version_minor": 0
      },
      "text/plain": [
       "HBox(children=(IntProgress(value=0, description='Training', style=ProgressStyle(description_width='initial')),…"
      ]
     },
     "metadata": {},
     "output_type": "display_data"
    },
    {
     "data": {
      "application/vnd.jupyter.widget-view+json": {
       "model_id": "",
       "version_major": 2,
       "version_minor": 0
      },
      "text/plain": [
       "HBox(children=(IntProgress(value=0, description='Epoch 0', max=54, style=ProgressStyle(description_width='init…"
      ]
     },
     "metadata": {},
     "output_type": "display_data"
    },
    {
     "name": "stdout",
     "output_type": "stream",
     "text": [
      "\n"
     ]
    }
   ],
   "source": [
    "history = model.fit(X, Y,\n",
    "    batch_size=56, \n",
    "    epochs=100, \n",
    "    verbose=0,\n",
    "    callbacks=[TQDMNotebookCallback()],\n",
    "    validation_split = 0.25)\n"
   ]
  },
  {
   "cell_type": "code",
   "execution_count": 29,
   "metadata": {},
   "outputs": [
    {
     "data": {
      "image/png": "[encoded data removed]",
      "text/plain": [
       "<Figure size 432x288 with 2 Axes>"
      ]
     },
     "metadata": {
      "needs_background": "light"
     },
     "output_type": "display_data"
    },
    {
     "name": "stdout",
     "output_type": "stream",
     "text": [
      "72/72 [==============================] - 0s 149us/step\n",
      "Test loss: 0.0003522073837100632\n",
      "Test accuracy: 1.0\n"
     ]
    }
   ],
   "source": [
    "plt.figure(1)\n",
    "\n",
    "plt.subplot(211)\n",
    "plt.plot(history.history['acc'])\n",
    "plt.plot(history.history['val_acc'])\n",
    "plt.title('model accuracy')\n",
    "plt.ylabel('accuracy')\n",
    "plt.xlabel('epoch')\n",
    "plt.legend(['train', 'test'], loc='upper left')\n",
    "\n",
    "plt.subplot(212)\n",
    "plt.plot(history.history['loss'])\n",
    "plt.plot(history.history['val_loss'])\n",
    "plt.title('model loss')\n",
    "plt.ylabel('loss')\n",
    "plt.xlabel('epoch')\n",
    "plt.legend(['train', 'test'], loc='upper left')\n",
    "plt.tight_layout()\n",
    "plt.show()\n",
    "\n",
    "score = model.evaluate(X, Y, verbose=1)\n",
    "print('Test loss:', score[0])\n",
    "print('Test accuracy:', score[1])"
   ]
  },
  {
   "cell_type": "code",
   "execution_count": null,
   "metadata": {},
   "outputs": [],
   "source": []
  }
 ],
 "metadata": {
  "kernelspec": {
   "display_name": "Python 3",
   "language": "python",
   "name": "python3"
  },
  "language_info": {
   "codemirror_mode": {
    "name": "ipython",
    "version": 3
   },
   "file_extension": ".py",
   "mimetype": "text/x-python",
   "name": "python",
   "nbconvert_exporter": "python",
   "pygments_lexer": "ipython3",
   "version": "3.6.7"
  }
 },
 "nbformat": 4,
 "nbformat_minor": 2
}
