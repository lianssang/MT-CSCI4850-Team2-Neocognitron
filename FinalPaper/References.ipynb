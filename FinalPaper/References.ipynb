{
 "cells": [
  {
   "cell_type": "raw",
   "metadata": {},
   "source": [
    "@article{fmradio,\n",
    "  author = \"Yin Chen and Dimitrios Lymberopoulos and Jie Liu and Bodhi Priyantha\",\n",
    "   title = \"Indoor Localization Using FM Signals\",\n",
    " journal = \"IEEE Transactions on Mobile Computing\",\n",
    "  volume = 12,\n",
    "    year = 2013,\n",
    "   pages = \"1502-1517\"\n",
    "}"
   ]
  },
  {
   "cell_type": "raw",
   "metadata": {},
   "source": [
    "@article{visiblelight,\n",
    "  author = \"SooYong Jung and Swook Hann and ChangSoo Park\",\n",
    "   title = \"TDOA-Based Optical Wireless Indoor Localization Using LED Ceiling Lamps\",\n",
    " journal = \"IEEE Transactions on Consumer Electronics\",\n",
    "  volume = 57,\n",
    "    year = 2011,\n",
    "   pages = \"1592-1597\"\n",
    "}"
   ]
  },
  {
   "cell_type": "raw",
   "metadata": {},
   "source": [
    "@article{pseudolite,\n",
    "  author = \"Changdon Kee and Doohee Yun and Haeyoung Jun and Bradford Parkinson and Sam Pullen and Tom Lagenstein\",\n",
    "   title = \"Centimeter-Accuracy Indoor Navigation Using GPS-Like Pseudolites\",\n",
    " journal = \"GPS World\",\n",
    "    year = 2001,\n",
    "    month = 11,\n",
    "}"
   ]
  },
  {
   "cell_type": "raw",
   "metadata": {},
   "source": [
    "@unpublished{wifisig,\n",
    "  author = \"Lei Miao\",\n",
    "   title = \"Calibration-Free Wireless Indoor Localization (CAFLOC)\",\n",
    " journal = \"Middle Tennessee State University\",\n",
    "}"
   ]
  },
  {
   "cell_type": "raw",
   "metadata": {},
   "source": [
    "@article{review,\n",
    "  author = \"Zheng Yang and Zimu Zhou and Yunhao Liu\",\n",
    "   title = \"From RSSI to CSI: Indoor localization via channel response\",\n",
    " journal = \"ACM Computing Surveys (CSUR)\",\n",
    "  volume = 46,\n",
    "    year = 2013\n",
    "}"
   ]
  }
 ],
 "metadata": {
  "kernelspec": {
   "display_name": "Python 3",
   "language": "python",
   "name": "python3"
  },
  "language_info": {
   "codemirror_mode": {
    "name": "ipython",
    "version": 3
   },
   "file_extension": ".py",
   "mimetype": "text/x-python",
   "name": "python",
   "nbconvert_exporter": "python",
   "pygments_lexer": "ipython3",
   "version": "3.6.7"
  }
 },
 "nbformat": 4,
 "nbformat_minor": 2
}
